{
 "cells": [
  {
   "cell_type": "code",
   "execution_count": 1,
   "metadata": {},
   "outputs": [],
   "source": [
    "import nltk\n",
    "import random\n",
    "from nltk.corpus import movie_reviews\n",
    "from nltk.classify.scikitlearn import SklearnClassifier\n",
    "from nltk.classify import ClassifierI\n",
    "from statistics import mode\n",
    "from nltk.tokenize import word_tokenize\n",
    "import pickle"
   ]
  },
  {
   "cell_type": "code",
   "execution_count": 2,
   "metadata": {},
   "outputs": [],
   "source": [
    "# Combined classifier which collects votes from all the classifiers and then classifies the tweet.\n",
    "class VoteClassifier(ClassifierI):\n",
    "    def __init__(self, *classifiers):\n",
    "        self._classifiers = classifiers\n",
    "\n",
    "    def classify(self, features):\n",
    "        votes = []\n",
    "        for c in self._classifiers:\n",
    "            v = c.classify(features)\n",
    "            votes.append(v)\n",
    "        return mode(votes)\n",
    "\n",
    "    def confidence(self, features):\n",
    "        votes = []\n",
    "        for c in self._classifiers:\n",
    "            v = c.classify(features)\n",
    "            votes.append(v)\n",
    "\n",
    "        choice_votes = votes.count(mode(votes))\n",
    "        conf = choice_votes / len(votes)\n",
    "        return conf"
   ]
  },
  {
   "cell_type": "code",
   "execution_count": 3,
   "metadata": {},
   "outputs": [],
   "source": [
    "positive = open(\"positive.txt\",\"r\", encoding=\"ISO-8859-1\").read() # positive sentences. \n",
    "negative = open(\"negative.txt\",\"r\", encoding=\"ISO-8859-1\").read() # negative sentences. "
   ]
  },
  {
   "cell_type": "code",
   "execution_count": 4,
   "metadata": {},
   "outputs": [],
   "source": [
    "documents = []\n",
    "\n",
    "# combining the data into one.\n",
    "for r in positive.split('\\n'):\n",
    "    documents.append( (r, \"pos\") )\n",
    "\n",
    "for r in negative.split('\\n'):\n",
    "    documents.append( (r, \"neg\") )\n",
    "    \n",
    "all_words = []\n",
    "\n",
    "# tokenize the positive and negative sentences.\n",
    "positive_words = word_tokenize(positive)\n",
    "negative_words = word_tokenize(negative)\n",
    "\n",
    "for w in positive_words:\n",
    "    all_words.append(w.lower())\n",
    "\n",
    "for w in negative_words:\n",
    "    all_words.append(w.lower())\n",
    "\n",
    "all_words = nltk.FreqDist(all_words)\n",
    "\n",
    "# Get the 5000 most common words.\n",
    "word_features = [w[0] for w in all_words.most_common(5000)]\n",
    "\n",
    "def find_features(document):\n",
    "    words = word_tokenize(document)\n",
    "    features = {}\n",
    "    for w in word_features:\n",
    "        features[w] = (w in words)\n",
    "\n",
    "    return features\n",
    "\n",
    "featuresets = [(find_features(rev), category) for (rev, category) in documents]\n",
    "\n",
    "random.shuffle(featuresets)\n",
    "\n",
    "# Training and Testing Data      \n",
    "training_set = featuresets[:10000]\n",
    "testing_set =  featuresets[10000:]"
   ]
  },
  {
   "cell_type": "markdown",
   "metadata": {},
   "source": [
    "#### Decision Tree Classifier "
   ]
  },
  {
   "cell_type": "code",
   "execution_count": 5,
   "metadata": {},
   "outputs": [
    {
     "name": "stdout",
     "output_type": "stream",
     "text": [
      "Decision Tree accuracy: 59.78915662650602\n"
     ]
    }
   ],
   "source": [
    "from sklearn.tree import DecisionTreeClassifier\n",
    "decisionTreeClassifier = SklearnClassifier(DecisionTreeClassifier(max_depth  = 5, min_samples_split = 490, random_state = 0))\n",
    "decisionTreeClassifier.train(training_set)\n",
    "print(\"Decision Tree accuracy:\", (nltk.classify.accuracy(decisionTreeClassifier, testing_set))*100)"
   ]
  },
  {
   "cell_type": "code",
   "execution_count": null,
   "metadata": {},
   "outputs": [],
   "source": [
    "save_classifier = open(\"Pickled_Algorithms/decisionTreeClassifier.pickle\",\"wb\")\n",
    "pickle.dump(decisionTreeClassifier, save_classifier)\n",
    "save_classifier.close()"
   ]
  },
  {
   "cell_type": "markdown",
   "metadata": {},
   "source": [
    "#### Multinomial Naiye Bayes Classifier "
   ]
  },
  {
   "cell_type": "code",
   "execution_count": 6,
   "metadata": {},
   "outputs": [
    {
     "name": "stdout",
     "output_type": "stream",
     "text": [
      "Multinomial Naiye Bayes accuracy: 76.05421686746988\n"
     ]
    }
   ],
   "source": [
    "from sklearn.naive_bayes import MultinomialNB\n",
    "MNBClassifier = SklearnClassifier(MultinomialNB())\n",
    "MNBClassifier.train(training_set)\n",
    "print(\"Multinomial Naiye Bayes accuracy:\", (nltk.classify.accuracy(MNBClassifier, testing_set))*100)"
   ]
  },
  {
   "cell_type": "code",
   "execution_count": null,
   "metadata": {},
   "outputs": [],
   "source": [
    "save_classifier = open(\"Pickled_Algorithms/MNBClassifier.pickle\",\"wb\")\n",
    "pickle.dump(MNBClassifier, save_classifier)\n",
    "save_classifier.close()"
   ]
  },
  {
   "cell_type": "markdown",
   "metadata": {},
   "source": [
    "#### Bernoulli Naive Bayes Classifier"
   ]
  },
  {
   "cell_type": "code",
   "execution_count": 7,
   "metadata": {},
   "outputs": [
    {
     "name": "stdout",
     "output_type": "stream",
     "text": [
      "Bernoulli Naive Bayes accuracy: 76.05421686746988\n"
     ]
    }
   ],
   "source": [
    "from sklearn.naive_bayes import BernoulliNB\n",
    "BNBClassifier = SklearnClassifier(MultinomialNB())\n",
    "BNBClassifier.train(training_set)\n",
    "print(\"Bernoulli Naive Bayes accuracy:\", (nltk.classify.accuracy(BNBClassifier, testing_set))*100)"
   ]
  },
  {
   "cell_type": "code",
   "execution_count": null,
   "metadata": {},
   "outputs": [],
   "source": [
    "save_classifier = open(\"Pickled_Algorithms/BNBClassifier.pickle\",\"wb\")\n",
    "pickle.dump(BNBClassifier, save_classifier)\n",
    "save_classifier.close()"
   ]
  },
  {
   "cell_type": "markdown",
   "metadata": {},
   "source": [
    "#### Logistic Regression Classifier"
   ]
  },
  {
   "cell_type": "code",
   "execution_count": 8,
   "metadata": {},
   "outputs": [
    {
     "name": "stdout",
     "output_type": "stream",
     "text": [
      "Logistic Regression accuracy: 75.30120481927712\n"
     ]
    }
   ],
   "source": [
    "from sklearn.linear_model import LogisticRegression\n",
    "LogisticRegressionClassifier = SklearnClassifier(LogisticRegression())\n",
    "LogisticRegressionClassifier.train(training_set)\n",
    "print(\"Logistic Regression accuracy:\", (nltk.classify.accuracy(LogisticRegressionClassifier, testing_set))*100)"
   ]
  },
  {
   "cell_type": "code",
   "execution_count": null,
   "metadata": {},
   "outputs": [],
   "source": [
    "save_classifier = open(\"Pickled_Algorithms/LogisticRegressionClassifier.pickle\",\"wb\")\n",
    "pickle.dump(LogisticRegressionClassifier, save_classifier)\n",
    "save_classifier.close()"
   ]
  },
  {
   "cell_type": "markdown",
   "metadata": {},
   "source": [
    "#### Stochastic Gradient Descent Classifier"
   ]
  },
  {
   "cell_type": "code",
   "execution_count": 9,
   "metadata": {},
   "outputs": [
    {
     "name": "stderr",
     "output_type": "stream",
     "text": [
      "/anaconda3/lib/python3.7/site-packages/sklearn/linear_model/stochastic_gradient.py:128: FutureWarning: max_iter and tol parameters have been added in <class 'sklearn.linear_model.stochastic_gradient.SGDClassifier'> in 0.19. If both are left unset, they default to max_iter=5 and tol=None. If tol is not None, max_iter defaults to max_iter=1000. From 0.21, default max_iter will be 1000, and default tol will be 1e-3.\n",
      "  \"and default tol will be 1e-3.\" % type(self), FutureWarning)\n"
     ]
    },
    {
     "name": "stdout",
     "output_type": "stream",
     "text": [
      "Stochastic Gradient Descent accuracy: 75.30120481927712\n"
     ]
    }
   ],
   "source": [
    "from sklearn.linear_model import SGDClassifier\n",
    "SGDClassifier = SklearnClassifier(SGDClassifier())\n",
    "SGDClassifier.train(training_set)\n",
    "print(\"Stochastic Gradient Descent accuracy:\", (nltk.classify.accuracy(SGDClassifier, testing_set))*100)"
   ]
  },
  {
   "cell_type": "code",
   "execution_count": null,
   "metadata": {},
   "outputs": [],
   "source": [
    "save_classifier = open(\"Pickled_Algorithms/SGDClassifier.pickle\",\"wb\")\n",
    "pickle.dump(SGDClassifier, save_classifier)\n",
    "save_classifier.close()"
   ]
  },
  {
   "cell_type": "markdown",
   "metadata": {},
   "source": [
    "####  Linear SVC"
   ]
  },
  {
   "cell_type": "code",
   "execution_count": 10,
   "metadata": {},
   "outputs": [
    {
     "name": "stdout",
     "output_type": "stream",
     "text": [
      "Linear SVC accuracy: 71.83734939759037\n"
     ]
    }
   ],
   "source": [
    "from sklearn.svm import LinearSVC\n",
    "LinearSVCClassifier = SklearnClassifier(LinearSVC())\n",
    "LinearSVCClassifier.train(training_set)\n",
    "print(\"Linear SVC accuracy:\", (nltk.classify.accuracy(LinearSVCClassifier, testing_set))*100)"
   ]
  },
  {
   "cell_type": "code",
   "execution_count": null,
   "metadata": {},
   "outputs": [],
   "source": [
    "save_classifier = open(\"Pickled_Algorithms/LinearSVCClassifier.pickle\",\"wb\")\n",
    "pickle.dump(LinearSVCClassifier, save_classifier)\n",
    "save_classifier.close()"
   ]
  },
  {
   "cell_type": "markdown",
   "metadata": {},
   "source": [
    "####  NuSVC"
   ]
  },
  {
   "cell_type": "code",
   "execution_count": 11,
   "metadata": {},
   "outputs": [
    {
     "name": "stdout",
     "output_type": "stream",
     "text": [
      "NuSVC accuracy: 75.75301204819277\n"
     ]
    }
   ],
   "source": [
    "from sklearn.svm import NuSVC\n",
    "NuSVCClassifier = SklearnClassifier(NuSVC())\n",
    "NuSVCClassifier.train(training_set)\n",
    "print(\"NuSVC accuracy:\", (nltk.classify.accuracy(NuSVCClassifier, testing_set))*100)"
   ]
  },
  {
   "cell_type": "code",
   "execution_count": null,
   "metadata": {},
   "outputs": [],
   "source": [
    "save_classifier = open(\"Pickled_Algorithms/NuSVCClassifier.pickle\",\"wb\")\n",
    "pickle.dump(NuSVCClassifier, save_classifier)\n",
    "save_classifier.close()"
   ]
  },
  {
   "cell_type": "markdown",
   "metadata": {},
   "source": [
    "#### Vote Classifier (Combined Classifier) "
   ]
  },
  {
   "cell_type": "code",
   "execution_count": 12,
   "metadata": {},
   "outputs": [
    {
     "name": "stdout",
     "output_type": "stream",
     "text": [
      "VotedClassifier accuracy percent: 76.35542168674698\n"
     ]
    }
   ],
   "source": [
    "votedClassifier = VoteClassifier(decisionTreeClassifier, MNBClassifier, BNBClassifier, LogisticRegressionClassifier, \n",
    "                                  SGDClassifier, LinearSVCClassifier, NuSVCClassifier)\n",
    "\n",
    "print(\"VotedClassifier accuracy percent:\", (nltk.classify.accuracy(votedClassifier, testing_set))*100)"
   ]
  },
  {
   "cell_type": "code",
   "execution_count": null,
   "metadata": {},
   "outputs": [],
   "source": [
    "# Function to determine the sentiment of given texr.\n",
    "def sentiment(text):\n",
    "    feats = find_features(text)\n",
    "    return votedClassifier.classify(feats),votedClassifier.confidence(feats) # returning the sentiment and the confidence."
   ]
  },
  {
   "cell_type": "markdown",
   "metadata": {},
   "source": [
    "### After pickling all the classifiers, all the code can be saved in a module as below. "
   ]
  },
  {
   "cell_type": "code",
   "execution_count": null,
   "metadata": {},
   "outputs": [],
   "source": [
    "'''\n",
    "import nltk\n",
    "import random\n",
    "from nltk.corpus import movie_reviews\n",
    "from nltk.classify.scikitlearn import SklearnClassifier\n",
    "from nltk.classify import ClassifierI\n",
    "from statistics import mode\n",
    "from nltk.tokenize import word_tokenize\n",
    "import pickle\n",
    "\n",
    "class VoteClassifier(ClassifierI):\n",
    "    def __init__(self, *classifiers):\n",
    "        self._classifiers = classifiers\n",
    "\n",
    "    def classify(self, features):\n",
    "        votes = []\n",
    "        for c in self._classifiers:\n",
    "            v = c.classify(features)\n",
    "            votes.append(v)\n",
    "        return mode(votes)\n",
    "\n",
    "    def confidence(self, features):\n",
    "        votes = []\n",
    "        for c in self._classifiers:\n",
    "            v = c.classify(features)\n",
    "            votes.append(v)\n",
    "\n",
    "        choice_votes = votes.count(mode(votes))\n",
    "        conf = choice_votes / len(votes)\n",
    "        return conf\n",
    "    \n",
    "positive = open(\"positive.txt\",\"r\", encoding=\"ISO-8859-1\").read()\n",
    "negative = open(\"negative.txt\",\"r\", encoding=\"ISO-8859-1\").read()\n",
    "\n",
    "documents = []\n",
    "\n",
    "for r in positive.split('\\n'):\n",
    "    documents.append( (r, \"pos\") )\n",
    "\n",
    "for r in negative.split('\\n'):\n",
    "    documents.append( (r, \"neg\") )\n",
    "    \n",
    "all_words = []\n",
    "\n",
    "positive_words = word_tokenize(positive)\n",
    "negative_words = word_tokenize(negative)\n",
    "\n",
    "for w in positive_words:\n",
    "    all_words.append(w.lower())\n",
    "\n",
    "for w in negative_words:\n",
    "    all_words.append(w.lower())\n",
    "\n",
    "all_words = nltk.FreqDist(all_words)\n",
    "\n",
    "word_features = [w[0] for w in all_words.most_common(5000)]\n",
    "\n",
    "def find_features(document):\n",
    "    words = word_tokenize(document)\n",
    "    features = {}\n",
    "    for w in word_features:\n",
    "        features[w] = (w in words)\n",
    "\n",
    "    return features\n",
    "\n",
    "featuresets = [(find_features(rev), category) for (rev, category) in documents]\n",
    "\n",
    "random.shuffle(featuresets)\n",
    "\n",
    "# Training and Testing Data      \n",
    "training_set = featuresets[:10000]\n",
    "testing_set =  featuresets[10000:]\n",
    "\n",
    "open_file = open(\"Pickled_Algorithms/decisionTreeClassifier.pickle\", \"rb\")\n",
    "decisionTreeClassifier = pickle.load(open_file)\n",
    "open_file.close()\n",
    "\n",
    "open_file = open(\"Pickled_Algorithms/MNBClassifier.pickle\", \"rb\")\n",
    "MNBClassifier = pickle.load(open_file)\n",
    "open_file.close()\n",
    "\n",
    "open_file = open(\"Pickled_Algorithms/BNBClassifier.pickle\", \"rb\")\n",
    "BNBClassifier = pickle.load(open_file)\n",
    "open_file.close()\n",
    "\n",
    "open_file = open(\"Pickled_Algorithms/LogisticRegressionClassifier.pickle\", \"rb\")\n",
    "LogisticRegressionClassifier = pickle.load(open_file)\n",
    "open_file.close()\n",
    "\n",
    "open_file = open(\"Pickled_Algorithms/SGDClassifier.pickle\", \"rb\")\n",
    "SGDClassifier = pickle.load(open_file)\n",
    "open_file.close()\n",
    "\n",
    "open_file = open(\"Pickled_Algorithms/LinearSVCClassifier.pickle\", \"rb\")\n",
    "LinearSVCClassifier = pickle.load(open_file)\n",
    "open_file.close()\n",
    "\n",
    "open_file = open(\"Pickled_Algorithms/NuSVCClassifier.pickle\", \"rb\")\n",
    "NuSVCClassifier = pickle.load(open_file)\n",
    "open_file.close()\n",
    "\n",
    "votedClassifier = VoteClassifier(decisionTreeClassifier, MNBClassifier, BNBClassifier, LogisticRegressionClassifier, \n",
    "                                  SGDClassifier, LinearSVCClassifier, NuSVCClassifier)\n",
    "\n",
    "print(\"VotedClassifier accuracy percent:\", (nltk.classify.accuracy(votedClassifier, testing_set))*100)\n",
    "\n",
    "def sentiment(text):\n",
    "    feats = find_features(text)\n",
    "    return votedClassifier.classify(feats),votedClassifier.confidence(feats)\n",
    "\n",
    "'''\n"
   ]
  },
  {
   "cell_type": "markdown",
   "metadata": {},
   "source": [
    "## Running the Vote Classifier on Tweets. "
   ]
  },
  {
   "cell_type": "markdown",
   "metadata": {},
   "source": [
    "### Streaming tweets from Twitter API. "
   ]
  },
  {
   "cell_type": "code",
   "execution_count": 13,
   "metadata": {},
   "outputs": [],
   "source": [
    "from tweepy import Stream\n",
    "from tweepy import OAuthHandler\n",
    "from tweepy.streaming import StreamListener\n",
    "import time\n",
    "import json"
   ]
  },
  {
   "cell_type": "code",
   "execution_count": 14,
   "metadata": {},
   "outputs": [],
   "source": [
    "#API keys and tokens\n",
    "ckey=\"CKEY\"\n",
    "csecret=\"CSECRET\"\n",
    "atoken=\"AUTH-TOKEN\"\n",
    "asecret=\"AUTH-SECRET\""
   ]
  },
  {
   "cell_type": "code",
   "execution_count": 15,
   "metadata": {},
   "outputs": [],
   "source": [
    "class listener(StreamListener):\n",
    "    def on_data(self, data):\n",
    "        all_data = json.loads(data)\n",
    "        tweet = all_data[\"text\"]\n",
    "        sentiment_value, confidence = sentiment(tweet)\n",
    "        print(tweet, sentiment_value, confidence)\n",
    "\n",
    "        if confidence*100 >= 70:\n",
    "            output = open(\"twitter-out.txt\",\"a\")\n",
    "            output.write('Tweet: {}, Sentiment: {}., Confidence: {}'.format(tweet, sentiment_value, confidence))\n",
    "            output.write('\\n')\n",
    "            output.close()\n",
    "\n",
    "        return True\n",
    "        \n",
    "    \n",
    "    def on_error(self, status):\n",
    "        print(status)"
   ]
  },
  {
   "cell_type": "code",
   "execution_count": null,
   "metadata": {},
   "outputs": [],
   "source": [
    "auth = OAuthHandler(ckey, csecret)\n",
    "auth.set_access_token(atoken, asecret)\n",
    "\n",
    "twitterStream = Stream(auth, listener())\n",
    "twitterStream.filter(track=[\"Avengers\"])"
   ]
  },
  {
   "cell_type": "markdown",
   "metadata": {},
   "source": [
    "## Graphing the sentiments of the tweets using Matplotlib. "
   ]
  },
  {
   "cell_type": "code",
   "execution_count": 11,
   "metadata": {},
   "outputs": [
    {
     "data": {
      "image/png": "[encoded data removed]",
      "text/plain": [
       "<Figure size 432x288 with 1 Axes>"
      ]
     },
     "metadata": {},
     "output_type": "display_data"
    }
   ],
   "source": [
    "import matplotlib.pyplot as plt\n",
    "import matplotlib.animation as animation\n",
    "from matplotlib import style\n",
    "import time\n",
    "\n",
    "style.use(\"ggplot\")\n",
    "\n",
    "fig = plt.figure()\n",
    "ax1 = fig.add_subplot(1,1,1)\n",
    "\n",
    "def animate(i):\n",
    "    pullData = open(\"twitter-out.txt\",\"r\").read()\n",
    "    lines = pullData.split('\\n')\n",
    "\n",
    "    xarray = []\n",
    "    yarray = []\n",
    "\n",
    "    x = 0\n",
    "    y = 0\n",
    "\n",
    "    for l in lines[-200:]:\n",
    "        x += 1\n",
    "        if \"pos\" in l:\n",
    "            y += 1\n",
    "        elif \"neg\" in l:\n",
    "            y -= 1\n",
    "\n",
    "        xarray.append(x)\n",
    "        yarray.append(y)\n",
    "        \n",
    "    ax1.clear()\n",
    "    ax1.plot(xarray,yarray)\n",
    "ani = animation.FuncAnimation(fig, animate, interval=1000)\n",
    "plt.show();"
   ]
  }
 ],
 "metadata": {
  "kernelspec": {
   "display_name": "Python 3",
   "language": "python",
   "name": "python3"
  },
  "language_info": {
   "codemirror_mode": {
    "name": "ipython",
    "version": 3
   },
   "file_extension": ".py",
   "mimetype": "text/x-python",
   "name": "python",
   "nbconvert_exporter": "python",
   "pygments_lexer": "ipython3",
   "version": "3.7.1"
  }
 },
 "nbformat": 4,
 "nbformat_minor": 2
}
